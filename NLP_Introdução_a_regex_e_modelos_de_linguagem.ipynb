{
  "nbformat": 4,
  "nbformat_minor": 0,
  "metadata": {
    "colab": {
      "name": "NLP: Introdução a regex e modelos de linguagem.ipynb",
      "provenance": [],
      "collapsed_sections": [],
      "toc_visible": true,
      "include_colab_link": true
    },
    "kernelspec": {
      "name": "python3",
      "display_name": "Python 3"
    }
  },
  "cells": [
    {
      "cell_type": "markdown",
      "metadata": {
        "id": "view-in-github",
        "colab_type": "text"
      },
      "source": [
        "<a href=\"https://colab.research.google.com/github/patriciatozi/natural-language-processing-course/blob/main/NLP_Introdu%C3%A7%C3%A3o_a_regex_e_modelos_de_linguagem.ipynb\" target=\"_parent\"><img src=\"https://colab.research.google.com/assets/colab-badge.svg\" alt=\"Open In Colab\"/></a>"
      ]
    },
    {
      "cell_type": "markdown",
      "metadata": {
        "id": "U0cB6LxiVV0n"
      },
      "source": [
        "# Aula 1: Explorando os dados e seus desafios"
      ]
    },
    {
      "cell_type": "code",
      "metadata": {
        "id": "nUY76eWeVNOq"
      },
      "source": [
        "import pandas as pd"
      ],
      "execution_count": null,
      "outputs": []
    },
    {
      "cell_type": "code",
      "metadata": {
        "id": "6JRY3T92swl5",
        "colab": {
          "base_uri": "https://localhost:8080/",
          "height": 280
        },
        "outputId": "f46bce18-4b4f-4b89-8841-e9d6c9839743"
      },
      "source": [
        "dados_portugues = pd.read_csv(\"stackoverflow_portugues.csv\")\n",
        "dados_portugues.head()"
      ],
      "execution_count": null,
      "outputs": [
        {
          "output_type": "execute_result",
          "data": {
            "text/html": [
              "<div>\n",
              "<style scoped>\n",
              "    .dataframe tbody tr th:only-of-type {\n",
              "        vertical-align: middle;\n",
              "    }\n",
              "\n",
              "    .dataframe tbody tr th {\n",
              "        vertical-align: top;\n",
              "    }\n",
              "\n",
              "    .dataframe thead th {\n",
              "        text-align: right;\n",
              "    }\n",
              "</style>\n",
              "<table border=\"1\" class=\"dataframe\">\n",
              "  <thead>\n",
              "    <tr style=\"text-align: right;\">\n",
              "      <th></th>\n",
              "      <th>Id</th>\n",
              "      <th>Título</th>\n",
              "      <th>Questão</th>\n",
              "      <th>Tags</th>\n",
              "      <th>Pontuação</th>\n",
              "      <th>Visualizações</th>\n",
              "    </tr>\n",
              "  </thead>\n",
              "  <tbody>\n",
              "    <tr>\n",
              "      <th>0</th>\n",
              "      <td>2402</td>\n",
              "      <td>Como fazer hash de senhas de forma segura?</td>\n",
              "      <td>&lt;p&gt;Se eu fizer o &lt;em&gt;&lt;a href=\"http://pt.wikipe...</td>\n",
              "      <td>&lt;hash&gt;&lt;segurança&gt;&lt;senhas&gt;&lt;criptografia&gt;</td>\n",
              "      <td>350</td>\n",
              "      <td>22367</td>\n",
              "    </tr>\n",
              "    <tr>\n",
              "      <th>1</th>\n",
              "      <td>6441</td>\n",
              "      <td>Qual é a diferença entre INNER JOIN e OUTER JOIN?</td>\n",
              "      <td>&lt;p&gt;Qual é a diferença entre &lt;code&gt;INNER JOIN&lt;/...</td>\n",
              "      <td>&lt;sql&gt;&lt;join&gt;</td>\n",
              "      <td>276</td>\n",
              "      <td>176953</td>\n",
              "    </tr>\n",
              "    <tr>\n",
              "      <th>2</th>\n",
              "      <td>579</td>\n",
              "      <td>Por que não devemos usar funções do tipo mysql_*?</td>\n",
              "      <td>&lt;p&gt;Uma dúvida muito comum é por que devemos pa...</td>\n",
              "      <td>&lt;php&gt;&lt;mysql&gt;</td>\n",
              "      <td>226</td>\n",
              "      <td>9761</td>\n",
              "    </tr>\n",
              "    <tr>\n",
              "      <th>3</th>\n",
              "      <td>2539</td>\n",
              "      <td>As mensagens de erro devem se desculpar?</td>\n",
              "      <td>&lt;p&gt;É comum encontrar uma mensagem de erro que ...</td>\n",
              "      <td>&lt;aplicação-web&gt;&lt;gui&gt;&lt;console&gt;&lt;ux&gt;</td>\n",
              "      <td>214</td>\n",
              "      <td>5075</td>\n",
              "    </tr>\n",
              "    <tr>\n",
              "      <th>4</th>\n",
              "      <td>17501</td>\n",
              "      <td>Qual é a diferença de API, biblioteca e Framew...</td>\n",
              "      <td>&lt;p&gt;Me parecem termos muito próximos e eventual...</td>\n",
              "      <td>&lt;api&gt;&lt;framework&gt;&lt;terminologia&gt;&lt;biblioteca&gt;</td>\n",
              "      <td>193</td>\n",
              "      <td>54191</td>\n",
              "    </tr>\n",
              "  </tbody>\n",
              "</table>\n",
              "</div>"
            ],
            "text/plain": [
              "      Id  ... Visualizações\n",
              "0   2402  ...         22367\n",
              "1   6441  ...        176953\n",
              "2    579  ...          9761\n",
              "3   2539  ...          5075\n",
              "4  17501  ...         54191\n",
              "\n",
              "[5 rows x 6 columns]"
            ]
          },
          "metadata": {
            "tags": []
          },
          "execution_count": 3
        }
      ]
    },
    {
      "cell_type": "code",
      "metadata": {
        "id": "qmBKIw0DNw8I",
        "colab": {
          "base_uri": "https://localhost:8080/",
          "height": 288
        },
        "outputId": "c3dae284-c2c2-4e38-f681-8a541e176f3d"
      },
      "source": [
        "questao_portugues = dados_portugues.Questão[5]\n",
        "print(questao_portugues)"
      ],
      "execution_count": null,
      "outputs": [
        {
          "output_type": "stream",
          "text": [
            "<p>Desenvolvi uma página em PHP para uso interno da empresa que trabalho e apenas pouquíssimas pessoas a utilizam. Através dessa página é possível fazer algumas consultas, inserções, alterações e remoções de dados de uma tabela em um banco de dados MySQL, porém eu acredito que meu código em PHP não está protegido contra injeção de código SQL, por exemplo:</p>\n",
            "\n",
            "<pre><code>//----CONSULTA SQL----//\n",
            "$busca = mysql_query ('insert into Produtos (coluna) values(' . $valor . ')');\n",
            "</code></pre>\n",
            "\n",
            "<p>Logo, digamos que o usuário usar a sentença: <code>1); DROP TABLE Produtos;</code> para ao campo <code>valor</code> o comando ficaria: </p>\n",
            "\n",
            "<pre><code>insert into Produtos (coluna) values(1); DROP TABLE Produtos;\n",
            "</code></pre>\n",
            "\n",
            "<p>Ele vai inserir um novo registro cujo o campo <code>coluna</code> será <code>1</code> e logo em seguida ele vai deletar a tabela Produtos.</p>\n",
            "\n",
            "<p>Como posso melhorar meu código para prevenir essa situação?</p>\n",
            "\n"
          ],
          "name": "stdout"
        }
      ]
    },
    {
      "cell_type": "code",
      "metadata": {
        "id": "Xb_X8-URVhvb"
      },
      "source": [
        "dados_ingles = pd.read_csv(\"stackoverflow_ingles.csv\")"
      ],
      "execution_count": null,
      "outputs": []
    },
    {
      "cell_type": "code",
      "metadata": {
        "id": "lkbpAir1WLLe",
        "colab": {
          "base_uri": "https://localhost:8080/",
          "height": 280
        },
        "outputId": "8012f3c1-93e2-42cb-eee0-166dc5f94772"
      },
      "source": [
        "dados_ingles.head()"
      ],
      "execution_count": null,
      "outputs": [
        {
          "output_type": "execute_result",
          "data": {
            "text/html": [
              "<div>\n",
              "<style scoped>\n",
              "    .dataframe tbody tr th:only-of-type {\n",
              "        vertical-align: middle;\n",
              "    }\n",
              "\n",
              "    .dataframe tbody tr th {\n",
              "        vertical-align: top;\n",
              "    }\n",
              "\n",
              "    .dataframe thead th {\n",
              "        text-align: right;\n",
              "    }\n",
              "</style>\n",
              "<table border=\"1\" class=\"dataframe\">\n",
              "  <thead>\n",
              "    <tr style=\"text-align: right;\">\n",
              "      <th></th>\n",
              "      <th>Id</th>\n",
              "      <th>Título</th>\n",
              "      <th>Questão</th>\n",
              "      <th>Tags</th>\n",
              "      <th>Pontuação</th>\n",
              "      <th>Visualizações</th>\n",
              "    </tr>\n",
              "  </thead>\n",
              "  <tbody>\n",
              "    <tr>\n",
              "      <th>0</th>\n",
              "      <td>11227809</td>\n",
              "      <td>Why is it faster to process a sorted array tha...</td>\n",
              "      <td>&lt;p&gt;Here is a piece of C++ code that seems very...</td>\n",
              "      <td>&lt;java&gt;&lt;c++&gt;&lt;performance&gt;&lt;optimization&gt;&lt;branch-...</td>\n",
              "      <td>23057</td>\n",
              "      <td>1358574</td>\n",
              "    </tr>\n",
              "    <tr>\n",
              "      <th>1</th>\n",
              "      <td>927358</td>\n",
              "      <td>How do I undo the most recent local commits in...</td>\n",
              "      <td>&lt;p&gt;I accidentally committed the wrong files to...</td>\n",
              "      <td>&lt;git&gt;&lt;version-control&gt;&lt;git-commit&gt;&lt;undo&gt;</td>\n",
              "      <td>19640</td>\n",
              "      <td>7906137</td>\n",
              "    </tr>\n",
              "    <tr>\n",
              "      <th>2</th>\n",
              "      <td>2003505</td>\n",
              "      <td>How do I delete a Git branch locally and remot...</td>\n",
              "      <td>&lt;p&gt;I want to delete a branch both locally and ...</td>\n",
              "      <td>&lt;git&gt;&lt;git-branch&gt;&lt;git-remote&gt;</td>\n",
              "      <td>15249</td>\n",
              "      <td>6940906</td>\n",
              "    </tr>\n",
              "    <tr>\n",
              "      <th>3</th>\n",
              "      <td>292357</td>\n",
              "      <td>What is the difference between 'git pull' and ...</td>\n",
              "      <td>&lt;blockquote&gt;\\n  &lt;p&gt;&lt;strong&gt;Moderator Note:&lt;/st...</td>\n",
              "      <td>&lt;git&gt;&lt;git-pull&gt;&lt;git-fetch&gt;</td>\n",
              "      <td>11008</td>\n",
              "      <td>2543052</td>\n",
              "    </tr>\n",
              "    <tr>\n",
              "      <th>4</th>\n",
              "      <td>477816</td>\n",
              "      <td>What is the correct JSON content type?</td>\n",
              "      <td>&lt;p&gt;I've been messing around with &lt;a href=\"http...</td>\n",
              "      <td>&lt;json&gt;&lt;http-headers&gt;&lt;content-type&gt;</td>\n",
              "      <td>9701</td>\n",
              "      <td>2478940</td>\n",
              "    </tr>\n",
              "  </tbody>\n",
              "</table>\n",
              "</div>"
            ],
            "text/plain": [
              "         Id  ... Visualizações\n",
              "0  11227809  ...       1358574\n",
              "1    927358  ...       7906137\n",
              "2   2003505  ...       6940906\n",
              "3    292357  ...       2543052\n",
              "4    477816  ...       2478940\n",
              "\n",
              "[5 rows x 6 columns]"
            ]
          },
          "metadata": {
            "tags": []
          },
          "execution_count": 6
        }
      ]
    },
    {
      "cell_type": "code",
      "metadata": {
        "id": "FAnNR0mHWNJ6",
        "colab": {
          "base_uri": "https://localhost:8080/",
          "height": 1000
        },
        "outputId": "930af445-7d03-4adb-8046-b5e17b2a4636"
      },
      "source": [
        "questao_ingles = dados_ingles.Questão[0]\n",
        "print(questao_ingles)"
      ],
      "execution_count": null,
      "outputs": [
        {
          "output_type": "stream",
          "text": [
            "<p>Here is a piece of C++ code that seems very peculiar. For some strange reason, sorting the data miraculously makes the code almost six times faster.</p>\n",
            "\n",
            "<pre class=\"lang-cpp prettyprint-override\"><code>#include &lt;algorithm&gt;\n",
            "#include &lt;ctime&gt;\n",
            "#include &lt;iostream&gt;\n",
            "\n",
            "int main()\n",
            "{\n",
            "    // Generate data\n",
            "    const unsigned arraySize = 32768;\n",
            "    int data[arraySize];\n",
            "\n",
            "    for (unsigned c = 0; c &lt; arraySize; ++c)\n",
            "        data[c] = std::rand() % 256;\n",
            "\n",
            "    // !!! With this, the next loop runs faster\n",
            "    std::sort(data, data + arraySize);\n",
            "\n",
            "    // Test\n",
            "    clock_t start = clock();\n",
            "    long long sum = 0;\n",
            "\n",
            "    for (unsigned i = 0; i &lt; 100000; ++i)\n",
            "    {\n",
            "        // Primary loop\n",
            "        for (unsigned c = 0; c &lt; arraySize; ++c)\n",
            "        {\n",
            "            if (data[c] &gt;= 128)\n",
            "                sum += data[c];\n",
            "        }\n",
            "    }\n",
            "\n",
            "    double elapsedTime = static_cast&lt;double&gt;(clock() - start) / CLOCKS_PER_SEC;\n",
            "\n",
            "    std::cout &lt;&lt; elapsedTime &lt;&lt; std::endl;\n",
            "    std::cout &lt;&lt; \"sum = \" &lt;&lt; sum &lt;&lt; std::endl;\n",
            "}\n",
            "</code></pre>\n",
            "\n",
            "<ul>\n",
            "<li>Without <code>std::sort(data, data + arraySize);</code>, the code runs in 11.54 seconds.</li>\n",
            "<li>With the sorted data, the code runs in 1.93 seconds.</li>\n",
            "</ul>\n",
            "\n",
            "<p>Initially, I thought this might be just a language or compiler anomaly. So I tried it in Java.</p>\n",
            "\n",
            "<pre class=\"lang-java prettyprint-override\"><code>import java.util.Arrays;\n",
            "import java.util.Random;\n",
            "\n",
            "public class Main\n",
            "{\n",
            "    public static void main(String[] args)\n",
            "    {\n",
            "        // Generate data\n",
            "        int arraySize = 32768;\n",
            "        int data[] = new int[arraySize];\n",
            "\n",
            "        Random rnd = new Random(0);\n",
            "        for (int c = 0; c &lt; arraySize; ++c)\n",
            "            data[c] = rnd.nextInt() % 256;\n",
            "\n",
            "        // !!! With this, the next loop runs faster\n",
            "        Arrays.sort(data);\n",
            "\n",
            "        // Test\n",
            "        long start = System.nanoTime();\n",
            "        long sum = 0;\n",
            "\n",
            "        for (int i = 0; i &lt; 100000; ++i)\n",
            "        {\n",
            "            // Primary loop\n",
            "            for (int c = 0; c &lt; arraySize; ++c)\n",
            "            {\n",
            "                if (data[c] &gt;= 128)\n",
            "                    sum += data[c];\n",
            "            }\n",
            "        }\n",
            "\n",
            "        System.out.println((System.nanoTime() - start) / 1000000000.0);\n",
            "        System.out.println(\"sum = \" + sum);\n",
            "    }\n",
            "}\n",
            "</code></pre>\n",
            "\n",
            "<p>With a somewhat similar but less extreme result.</p>\n",
            "\n",
            "<hr>\n",
            "\n",
            "<p>My first thought was that sorting brings the data into the cache, but then I thought how silly that is because the array was just generated.</p>\n",
            "\n",
            "<ul>\n",
            "<li>What is going on?</li>\n",
            "<li>Why is it faster to process a sorted array than an unsorted array?</li>\n",
            "<li>The code is summing up some independent terms, and the order should not matter.</li>\n",
            "</ul>\n",
            "\n"
          ],
          "name": "stdout"
        }
      ]
    },
    {
      "cell_type": "code",
      "metadata": {
        "id": "HaAeNjatWijC",
        "colab": {
          "base_uri": "https://localhost:8080/",
          "height": 280
        },
        "outputId": "a11af8d2-c7b8-44be-a11b-98bda771fafb"
      },
      "source": [
        "dados_espanhol = pd.read_csv(\"stackoverflow_espanhol.csv\")\n",
        "dados_espanhol.head()"
      ],
      "execution_count": null,
      "outputs": [
        {
          "output_type": "execute_result",
          "data": {
            "text/html": [
              "<div>\n",
              "<style scoped>\n",
              "    .dataframe tbody tr th:only-of-type {\n",
              "        vertical-align: middle;\n",
              "    }\n",
              "\n",
              "    .dataframe tbody tr th {\n",
              "        vertical-align: top;\n",
              "    }\n",
              "\n",
              "    .dataframe thead th {\n",
              "        text-align: right;\n",
              "    }\n",
              "</style>\n",
              "<table border=\"1\" class=\"dataframe\">\n",
              "  <thead>\n",
              "    <tr style=\"text-align: right;\">\n",
              "      <th></th>\n",
              "      <th>Id</th>\n",
              "      <th>Título</th>\n",
              "      <th>Questão</th>\n",
              "      <th>Tags</th>\n",
              "      <th>Pontuação</th>\n",
              "      <th>Visualizações</th>\n",
              "    </tr>\n",
              "  </thead>\n",
              "  <tbody>\n",
              "    <tr>\n",
              "      <th>0</th>\n",
              "      <td>18232</td>\n",
              "      <td>¿Cómo evitar la inyección SQL en PHP?</td>\n",
              "      <td>&lt;p&gt;Las sentencias dinámicas son sentencias SQL...</td>\n",
              "      <td>&lt;php&gt;&lt;mysql&gt;&lt;sql&gt;&lt;seguridad&gt;&lt;inyección-sql&gt;</td>\n",
              "      <td>169</td>\n",
              "      <td>38614</td>\n",
              "    </tr>\n",
              "    <tr>\n",
              "      <th>1</th>\n",
              "      <td>197</td>\n",
              "      <td>¿Por qué mis programas no pueden hacer cálculo...</td>\n",
              "      <td>&lt;p&gt;Unas veces los cálculos funcionan correctam...</td>\n",
              "      <td>&lt;matemáticas&gt;&lt;coma-flotante&gt;&lt;lenguaje-agnóstico&gt;</td>\n",
              "      <td>141</td>\n",
              "      <td>3860</td>\n",
              "    </tr>\n",
              "    <tr>\n",
              "      <th>2</th>\n",
              "      <td>36</td>\n",
              "      <td>¿Cuál es la diferencia entre un inner y un out...</td>\n",
              "      <td>&lt;p&gt;¿Cuál es la diferencia entre un &lt;code&gt;inner...</td>\n",
              "      <td>&lt;mysql&gt;&lt;sql&gt;&lt;join&gt;</td>\n",
              "      <td>97</td>\n",
              "      <td>53627</td>\n",
              "    </tr>\n",
              "    <tr>\n",
              "      <th>3</th>\n",
              "      <td>29177</td>\n",
              "      <td>¿Por qué es considerado una mala práctica util...</td>\n",
              "      <td>&lt;p&gt;La mayoría de nosotros decimos, (muchas vec...</td>\n",
              "      <td>&lt;variables&gt;&lt;variables-globales&gt;&lt;patrones-de-di...</td>\n",
              "      <td>89</td>\n",
              "      <td>9987</td>\n",
              "    </tr>\n",
              "    <tr>\n",
              "      <th>4</th>\n",
              "      <td>142</td>\n",
              "      <td>Validar un email en JavaScript que acepte todo...</td>\n",
              "      <td>&lt;h3&gt;Pregunta&lt;/h3&gt;\\n\\n&lt;p&gt;¿Cómo validar un e-mai...</td>\n",
              "      <td>&lt;javascript&gt;&lt;validación&gt;&lt;email&gt;&lt;regex&gt;</td>\n",
              "      <td>87</td>\n",
              "      <td>73129</td>\n",
              "    </tr>\n",
              "  </tbody>\n",
              "</table>\n",
              "</div>"
            ],
            "text/plain": [
              "      Id  ... Visualizações\n",
              "0  18232  ...         38614\n",
              "1    197  ...          3860\n",
              "2     36  ...         53627\n",
              "3  29177  ...          9987\n",
              "4    142  ...         73129\n",
              "\n",
              "[5 rows x 6 columns]"
            ]
          },
          "metadata": {
            "tags": []
          },
          "execution_count": 9
        }
      ]
    },
    {
      "cell_type": "code",
      "metadata": {
        "id": "6OlBBREMXAtk",
        "colab": {
          "base_uri": "https://localhost:8080/",
          "height": 304
        },
        "outputId": "595a1082-ef46-4afa-8397-60ff42a226c5"
      },
      "source": [
        "questao_espanhol = dados_espanhol.Questão[0]\n",
        "print(questao_espanhol)"
      ],
      "execution_count": null,
      "outputs": [
        {
          "output_type": "stream",
          "text": [
            "<p>Las sentencias dinámicas son sentencias SQL que se crean como cadenas de texto (strings) y en las que se insertan/concatenan valores obtenidos de alguna fuente (normalmente proveniente del usuario), lo que puede hacer que sean vulnerables a inyección SQL si no se sanean las entradas, como por ejemplo:</p>\n",
            "\n",
            "<pre><code>$id_usuario = $_POST[\"id\"];\n",
            "\n",
            "mysql_query(\"SELECT * FROM usuarios WHERE id = $id_usuario\");\n",
            "</code></pre>\n",
            "\n",
            "<p>Eso es un ejemplo de una vulnerabilidad grave en la seguridad de una aplicación (web o no) porque si el usuario introdujese un valor como <code>1; DROP TABLE usuarios;--</code> nos encontraríamos con que la sentencia ejecutada sería:</p>\n",
            "\n",
            "<pre><code>SELECT * FROM usuarios WHERE id = 1; DROP TABLE usuarios;--\n",
            "</code></pre>\n",
            "\n",
            "<p>Y se eliminaría la tabla Usuarios con todos los datos contenidos en ella. </p>\n",
            "\n",
            "<p><strong>¿Cómo puedo evitar que la inyección SQL ocurra en PHP?</strong></p>\n",
            "\n"
          ],
          "name": "stdout"
        }
      ]
    },
    {
      "cell_type": "markdown",
      "metadata": {
        "id": "yoLqUy6XdPPO"
      },
      "source": [
        "# Aula 2: Regex em Python"
      ]
    },
    {
      "cell_type": "code",
      "metadata": {
        "id": "1DIz-r6ZXM7M",
        "colab": {
          "base_uri": "https://localhost:8080/",
          "height": 418
        },
        "outputId": "8e582c63-e933-4e89-eee6-29db8f9c5573"
      },
      "source": [
        "import re\n",
        "\n",
        "re.findall(r\"<.*?>\",questao_portugues)"
      ],
      "execution_count": null,
      "outputs": [
        {
          "output_type": "execute_result",
          "data": {
            "text/plain": [
              "['<p>',\n",
              " '</p>',\n",
              " '<pre>',\n",
              " '<code>',\n",
              " '</code>',\n",
              " '</pre>',\n",
              " '<p>',\n",
              " '<code>',\n",
              " '</code>',\n",
              " '<code>',\n",
              " '</code>',\n",
              " '</p>',\n",
              " '<pre>',\n",
              " '<code>',\n",
              " '</code>',\n",
              " '</pre>',\n",
              " '<p>',\n",
              " '<code>',\n",
              " '</code>',\n",
              " '<code>',\n",
              " '</code>',\n",
              " '</p>',\n",
              " '<p>',\n",
              " '</p>']"
            ]
          },
          "metadata": {
            "tags": []
          },
          "execution_count": 15
        }
      ]
    },
    {
      "cell_type": "code",
      "metadata": {
        "id": "mVR6f8kCZCzZ",
        "colab": {
          "base_uri": "https://localhost:8080/",
          "height": 288
        },
        "outputId": "a73cc8d9-b40f-4ef7-e1d2-6775e3adad3b"
      },
      "source": [
        "texto_teste = re.sub(r\"<.*?>\",\"  T----E----S----T----E  \", questao_portugues)\n",
        "print(texto_teste)"
      ],
      "execution_count": null,
      "outputs": [
        {
          "output_type": "stream",
          "text": [
            "  T----E----S----T----E  Desenvolvi uma página em PHP para uso interno da empresa que trabalho e apenas pouquíssimas pessoas a utilizam. Através dessa página é possível fazer algumas consultas, inserções, alterações e remoções de dados de uma tabela em um banco de dados MySQL, porém eu acredito que meu código em PHP não está protegido contra injeção de código SQL, por exemplo:  T----E----S----T----E  \n",
            "\n",
            "  T----E----S----T----E    T----E----S----T----E  //----CONSULTA SQL----//\n",
            "$busca = mysql_query ('insert into Produtos (coluna) values(' . $valor . ')');\n",
            "  T----E----S----T----E    T----E----S----T----E  \n",
            "\n",
            "  T----E----S----T----E  Logo, digamos que o usuário usar a sentença:   T----E----S----T----E  1); DROP TABLE Produtos;  T----E----S----T----E   para ao campo   T----E----S----T----E  valor  T----E----S----T----E   o comando ficaria:   T----E----S----T----E  \n",
            "\n",
            "  T----E----S----T----E    T----E----S----T----E  insert into Produtos (coluna) values(1); DROP TABLE Produtos;\n",
            "  T----E----S----T----E    T----E----S----T----E  \n",
            "\n",
            "  T----E----S----T----E  Ele vai inserir um novo registro cujo o campo   T----E----S----T----E  coluna  T----E----S----T----E   será   T----E----S----T----E  1  T----E----S----T----E   e logo em seguida ele vai deletar a tabela Produtos.  T----E----S----T----E  \n",
            "\n",
            "  T----E----S----T----E  Como posso melhorar meu código para prevenir essa situação?  T----E----S----T----E  \n",
            "\n"
          ],
          "name": "stdout"
        }
      ]
    },
    {
      "cell_type": "code",
      "metadata": {
        "id": "r1u4GyqCbKCc",
        "colab": {
          "base_uri": "https://localhost:8080/",
          "height": 33
        },
        "outputId": "2edb1b39-1776-4967-f932-7adeca457ff9"
      },
      "source": [
        "re.search(r\"70\",\"2138198390828390239170\")"
      ],
      "execution_count": null,
      "outputs": [
        {
          "output_type": "execute_result",
          "data": {
            "text/plain": [
              "<_sre.SRE_Match object; span=(20, 22), match='70'>"
            ]
          },
          "metadata": {
            "tags": []
          },
          "execution_count": 17
        }
      ]
    },
    {
      "cell_type": "code",
      "metadata": {
        "id": "Lq8YAVD6b3bu"
      },
      "source": [
        "regex = re.compile(r\"70\")"
      ],
      "execution_count": null,
      "outputs": []
    },
    {
      "cell_type": "code",
      "metadata": {
        "id": "pPdjZo2GcOy8",
        "colab": {
          "base_uri": "https://localhost:8080/",
          "height": 33
        },
        "outputId": "1ad0fee7-ad00-4815-9321-380d717b5dd8"
      },
      "source": [
        "regex.search(\"2138198390828390239170\")"
      ],
      "execution_count": null,
      "outputs": [
        {
          "output_type": "execute_result",
          "data": {
            "text/plain": [
              "<_sre.SRE_Match object; span=(20, 22), match='70'>"
            ]
          },
          "metadata": {
            "tags": []
          },
          "execution_count": 19
        }
      ]
    },
    {
      "cell_type": "code",
      "metadata": {
        "id": "NwkS-OPYcYZt"
      },
      "source": [
        "from timeit import timeit"
      ],
      "execution_count": null,
      "outputs": []
    },
    {
      "cell_type": "code",
      "metadata": {
        "id": "rXyUoIl7cqwc",
        "colab": {
          "base_uri": "https://localhost:8080/",
          "height": 33
        },
        "outputId": "9e48a5c0-4f4c-4bc4-c61c-f0213df5b03e"
      },
      "source": [
        "setup = \"\"\"import re\"\"\"\n",
        "\n",
        "timeit(\"\"\"re.search(r\"70\",\"2138198390828390239170\")\"\"\", setup)"
      ],
      "execution_count": null,
      "outputs": [
        {
          "output_type": "execute_result",
          "data": {
            "text/plain": [
              "0.5848885919995155"
            ]
          },
          "metadata": {
            "tags": []
          },
          "execution_count": 21
        }
      ]
    },
    {
      "cell_type": "code",
      "metadata": {
        "id": "NC-oA2sJdCyc",
        "colab": {
          "base_uri": "https://localhost:8080/",
          "height": 33
        },
        "outputId": "6d6bef78-e255-439c-f7d1-448bb8fdfe15"
      },
      "source": [
        "setup = \"\"\"import re\n",
        "regex = re.compile(r\"70\")\"\"\"\n",
        "\n",
        "timeit(\"\"\"regex.search(\"2138198390828390239170\")\"\"\",setup)"
      ],
      "execution_count": null,
      "outputs": [
        {
          "output_type": "execute_result",
          "data": {
            "text/plain": [
              "0.18782914799976425"
            ]
          },
          "metadata": {
            "tags": []
          },
          "execution_count": 23
        }
      ]
    },
    {
      "cell_type": "code",
      "metadata": {
        "id": "5TlWz2a-d1dp"
      },
      "source": [
        "def remover(textos, regex):\n",
        "  if type(textos) == str:\n",
        "\t  return regex.sub(\"\", textos)\n",
        "  else:\n",
        "\t  return [regex.sub(\"\", texto) for texto in textos]"
      ],
      "execution_count": null,
      "outputs": []
    },
    {
      "cell_type": "code",
      "metadata": {
        "id": "XZM0iBLgjQ74",
        "colab": {
          "base_uri": "https://localhost:8080/",
          "height": 288
        },
        "outputId": "ce56d8ed-d97e-497c-de27-68d227a543ce"
      },
      "source": [
        "regex_html = re.compile(r\"<.*?>\")\n",
        "questao_sem_tag = remover(questao_portugues, regex_html)\n",
        "print(questao_sem_tag)"
      ],
      "execution_count": null,
      "outputs": [
        {
          "output_type": "stream",
          "text": [
            "Desenvolvi uma página em PHP para uso interno da empresa que trabalho e apenas pouquíssimas pessoas a utilizam. Através dessa página é possível fazer algumas consultas, inserções, alterações e remoções de dados de uma tabela em um banco de dados MySQL, porém eu acredito que meu código em PHP não está protegido contra injeção de código SQL, por exemplo:\n",
            "\n",
            "//----CONSULTA SQL----//\n",
            "$busca = mysql_query ('insert into Produtos (coluna) values(' . $valor . ')');\n",
            "\n",
            "\n",
            "Logo, digamos que o usuário usar a sentença: 1); DROP TABLE Produtos; para ao campo valor o comando ficaria: \n",
            "\n",
            "insert into Produtos (coluna) values(1); DROP TABLE Produtos;\n",
            "\n",
            "\n",
            "Ele vai inserir um novo registro cujo o campo coluna será 1 e logo em seguida ele vai deletar a tabela Produtos.\n",
            "\n",
            "Como posso melhorar meu código para prevenir essa situação?\n",
            "\n"
          ],
          "name": "stdout"
        }
      ]
    },
    {
      "cell_type": "code",
      "metadata": {
        "id": "wT9Gqx1Rj7KQ",
        "colab": {
          "base_uri": "https://localhost:8080/",
          "height": 304
        },
        "outputId": "8dc3059b-93a2-41fa-a939-91e3b47fd9fe"
      },
      "source": [
        "regex_html = re.compile(r\"<.*?>\")\n",
        "questao_sem_tag = remover(questao_espanhol, regex_html)\n",
        "print(questao_sem_tag)"
      ],
      "execution_count": null,
      "outputs": [
        {
          "output_type": "stream",
          "text": [
            "Las sentencias dinámicas son sentencias SQL que se crean como cadenas de texto (strings) y en las que se insertan/concatenan valores obtenidos de alguna fuente (normalmente proveniente del usuario), lo que puede hacer que sean vulnerables a inyección SQL si no se sanean las entradas, como por ejemplo:\n",
            "\n",
            "$id_usuario = $_POST[\"id\"];\n",
            "\n",
            "mysql_query(\"SELECT * FROM usuarios WHERE id = $id_usuario\");\n",
            "\n",
            "\n",
            "Eso es un ejemplo de una vulnerabilidad grave en la seguridad de una aplicación (web o no) porque si el usuario introdujese un valor como 1; DROP TABLE usuarios;-- nos encontraríamos con que la sentencia ejecutada sería:\n",
            "\n",
            "SELECT * FROM usuarios WHERE id = 1; DROP TABLE usuarios;--\n",
            "\n",
            "\n",
            "Y se eliminaría la tabla Usuarios con todos los datos contenidos en ella. \n",
            "\n",
            "¿Cómo puedo evitar que la inyección SQL ocurra en PHP?\n",
            "\n"
          ],
          "name": "stdout"
        }
      ]
    },
    {
      "cell_type": "code",
      "metadata": {
        "id": "y0ZXKA3UkBIx",
        "colab": {
          "base_uri": "https://localhost:8080/",
          "height": 1000
        },
        "outputId": "a908314a-d3bc-4351-c756-c5ba91c33c74"
      },
      "source": [
        "regex_html = re.compile(r\"<.*?>\")\n",
        "questao_sem_tag = remover(questao_ingles, regex_html)\n",
        "print(questao_sem_tag)"
      ],
      "execution_count": null,
      "outputs": [
        {
          "output_type": "stream",
          "text": [
            "Here is a piece of C++ code that seems very peculiar. For some strange reason, sorting the data miraculously makes the code almost six times faster.\n",
            "\n",
            "#include &lt;algorithm&gt;\n",
            "#include &lt;ctime&gt;\n",
            "#include &lt;iostream&gt;\n",
            "\n",
            "int main()\n",
            "{\n",
            "    // Generate data\n",
            "    const unsigned arraySize = 32768;\n",
            "    int data[arraySize];\n",
            "\n",
            "    for (unsigned c = 0; c &lt; arraySize; ++c)\n",
            "        data[c] = std::rand() % 256;\n",
            "\n",
            "    // !!! With this, the next loop runs faster\n",
            "    std::sort(data, data + arraySize);\n",
            "\n",
            "    // Test\n",
            "    clock_t start = clock();\n",
            "    long long sum = 0;\n",
            "\n",
            "    for (unsigned i = 0; i &lt; 100000; ++i)\n",
            "    {\n",
            "        // Primary loop\n",
            "        for (unsigned c = 0; c &lt; arraySize; ++c)\n",
            "        {\n",
            "            if (data[c] &gt;= 128)\n",
            "                sum += data[c];\n",
            "        }\n",
            "    }\n",
            "\n",
            "    double elapsedTime = static_cast&lt;double&gt;(clock() - start) / CLOCKS_PER_SEC;\n",
            "\n",
            "    std::cout &lt;&lt; elapsedTime &lt;&lt; std::endl;\n",
            "    std::cout &lt;&lt; \"sum = \" &lt;&lt; sum &lt;&lt; std::endl;\n",
            "}\n",
            "\n",
            "\n",
            "\n",
            "Without std::sort(data, data + arraySize);, the code runs in 11.54 seconds.\n",
            "With the sorted data, the code runs in 1.93 seconds.\n",
            "\n",
            "\n",
            "Initially, I thought this might be just a language or compiler anomaly. So I tried it in Java.\n",
            "\n",
            "import java.util.Arrays;\n",
            "import java.util.Random;\n",
            "\n",
            "public class Main\n",
            "{\n",
            "    public static void main(String[] args)\n",
            "    {\n",
            "        // Generate data\n",
            "        int arraySize = 32768;\n",
            "        int data[] = new int[arraySize];\n",
            "\n",
            "        Random rnd = new Random(0);\n",
            "        for (int c = 0; c &lt; arraySize; ++c)\n",
            "            data[c] = rnd.nextInt() % 256;\n",
            "\n",
            "        // !!! With this, the next loop runs faster\n",
            "        Arrays.sort(data);\n",
            "\n",
            "        // Test\n",
            "        long start = System.nanoTime();\n",
            "        long sum = 0;\n",
            "\n",
            "        for (int i = 0; i &lt; 100000; ++i)\n",
            "        {\n",
            "            // Primary loop\n",
            "            for (int c = 0; c &lt; arraySize; ++c)\n",
            "            {\n",
            "                if (data[c] &gt;= 128)\n",
            "                    sum += data[c];\n",
            "            }\n",
            "        }\n",
            "\n",
            "        System.out.println((System.nanoTime() - start) / 1000000000.0);\n",
            "        System.out.println(\"sum = \" + sum);\n",
            "    }\n",
            "}\n",
            "\n",
            "\n",
            "With a somewhat similar but less extreme result.\n",
            "\n",
            "\n",
            "\n",
            "My first thought was that sorting brings the data into the cache, but then I thought how silly that is because the array was just generated.\n",
            "\n",
            "\n",
            "What is going on?\n",
            "Why is it faster to process a sorted array than an unsorted array?\n",
            "The code is summing up some independent terms, and the order should not matter.\n",
            "\n",
            "\n"
          ],
          "name": "stdout"
        }
      ]
    },
    {
      "cell_type": "code",
      "metadata": {
        "id": "yC3ARBpjkFF-"
      },
      "source": [
        "def substituir_codigo(textos, regex):\n",
        "  if type(textos) == str:\n",
        "\t  return regex.sub(\"CODE\", textos)\n",
        "  else:\n",
        "\t  return [regex.sub(\"CODE\", texto) for texto in textos]"
      ],
      "execution_count": null,
      "outputs": []
    },
    {
      "cell_type": "code",
      "metadata": {
        "id": "PFfePTeulWBd"
      },
      "source": [
        "regex_codigo = re.compile(r\"<code>(.|(\\n))*?</code>\")"
      ],
      "execution_count": null,
      "outputs": []
    },
    {
      "cell_type": "code",
      "metadata": {
        "id": "ZPqRDdQJn-_4",
        "colab": {
          "base_uri": "https://localhost:8080/",
          "height": 237
        },
        "outputId": "45938ea9-5e5b-43e6-93e5-c99359a33f77"
      },
      "source": [
        "questao_sem_codigo = substituir_codigo(questao_portugues, regex_codigo)\n",
        "print(questao_sem_codigo)"
      ],
      "execution_count": null,
      "outputs": [
        {
          "output_type": "stream",
          "text": [
            "<p>Desenvolvi uma página em PHP para uso interno da empresa que trabalho e apenas pouquíssimas pessoas a utilizam. Através dessa página é possível fazer algumas consultas, inserções, alterações e remoções de dados de uma tabela em um banco de dados MySQL, porém eu acredito que meu código em PHP não está protegido contra injeção de código SQL, por exemplo:</p>\n",
            "\n",
            "<pre>CODE</pre>\n",
            "\n",
            "<p>Logo, digamos que o usuário usar a sentença: CODE para ao campo CODE o comando ficaria: </p>\n",
            "\n",
            "<pre>CODE</pre>\n",
            "\n",
            "<p>Ele vai inserir um novo registro cujo o campo CODE será CODE e logo em seguida ele vai deletar a tabela Produtos.</p>\n",
            "\n",
            "<p>Como posso melhorar meu código para prevenir essa situação?</p>\n",
            "\n"
          ],
          "name": "stdout"
        }
      ]
    },
    {
      "cell_type": "code",
      "metadata": {
        "id": "Cl9dylFuoKyH",
        "colab": {
          "base_uri": "https://localhost:8080/",
          "height": 455
        },
        "outputId": "9919c08e-6771-4815-cadb-2dbcd1d20b8e"
      },
      "source": [
        "questao_sem_codigo = substituir_codigo(questao_ingles, regex_codigo)\n",
        "print(questao_sem_codigo)"
      ],
      "execution_count": null,
      "outputs": [
        {
          "output_type": "stream",
          "text": [
            "<p>Here is a piece of C++ code that seems very peculiar. For some strange reason, sorting the data miraculously makes the code almost six times faster.</p>\n",
            "\n",
            "<pre class=\"lang-cpp prettyprint-override\">CODE</pre>\n",
            "\n",
            "<ul>\n",
            "<li>Without CODE, the code runs in 11.54 seconds.</li>\n",
            "<li>With the sorted data, the code runs in 1.93 seconds.</li>\n",
            "</ul>\n",
            "\n",
            "<p>Initially, I thought this might be just a language or compiler anomaly. So I tried it in Java.</p>\n",
            "\n",
            "<pre class=\"lang-java prettyprint-override\">CODE</pre>\n",
            "\n",
            "<p>With a somewhat similar but less extreme result.</p>\n",
            "\n",
            "<hr>\n",
            "\n",
            "<p>My first thought was that sorting brings the data into the cache, but then I thought how silly that is because the array was just generated.</p>\n",
            "\n",
            "<ul>\n",
            "<li>What is going on?</li>\n",
            "<li>Why is it faster to process a sorted array than an unsorted array?</li>\n",
            "<li>The code is summing up some independent terms, and the order should not matter.</li>\n",
            "</ul>\n",
            "\n"
          ],
          "name": "stdout"
        }
      ]
    },
    {
      "cell_type": "code",
      "metadata": {
        "id": "DywGHpPBoS_v",
        "colab": {
          "base_uri": "https://localhost:8080/",
          "height": 237
        },
        "outputId": "ba25f6aa-2ff2-4b51-e0e1-366302581c6f"
      },
      "source": [
        "questao_sem_codigo = substituir_codigo(questao_espanhol, regex_codigo)\n",
        "print(questao_sem_codigo)"
      ],
      "execution_count": null,
      "outputs": [
        {
          "output_type": "stream",
          "text": [
            "<p>Las sentencias dinámicas son sentencias SQL que se crean como cadenas de texto (strings) y en las que se insertan/concatenan valores obtenidos de alguna fuente (normalmente proveniente del usuario), lo que puede hacer que sean vulnerables a inyección SQL si no se sanean las entradas, como por ejemplo:</p>\n",
            "\n",
            "<pre>CODE</pre>\n",
            "\n",
            "<p>Eso es un ejemplo de una vulnerabilidad grave en la seguridad de una aplicación (web o no) porque si el usuario introdujese un valor como CODE nos encontraríamos con que la sentencia ejecutada sería:</p>\n",
            "\n",
            "<pre>CODE</pre>\n",
            "\n",
            "<p>Y se eliminaría la tabla Usuarios con todos los datos contenidos en ella. </p>\n",
            "\n",
            "<p><strong>¿Cómo puedo evitar que la inyección SQL ocurra en PHP?</strong></p>\n",
            "\n"
          ],
          "name": "stdout"
        }
      ]
    },
    {
      "cell_type": "code",
      "metadata": {
        "id": "Xn0GGOqZoXqh",
        "colab": {
          "base_uri": "https://localhost:8080/",
          "height": 280
        },
        "outputId": "cbc9cb8d-7ae8-4cfb-a726-139e18dbe819"
      },
      "source": [
        "dados_portugues.head()"
      ],
      "execution_count": null,
      "outputs": [
        {
          "output_type": "execute_result",
          "data": {
            "text/html": [
              "<div>\n",
              "<style scoped>\n",
              "    .dataframe tbody tr th:only-of-type {\n",
              "        vertical-align: middle;\n",
              "    }\n",
              "\n",
              "    .dataframe tbody tr th {\n",
              "        vertical-align: top;\n",
              "    }\n",
              "\n",
              "    .dataframe thead th {\n",
              "        text-align: right;\n",
              "    }\n",
              "</style>\n",
              "<table border=\"1\" class=\"dataframe\">\n",
              "  <thead>\n",
              "    <tr style=\"text-align: right;\">\n",
              "      <th></th>\n",
              "      <th>Id</th>\n",
              "      <th>Título</th>\n",
              "      <th>Questão</th>\n",
              "      <th>Tags</th>\n",
              "      <th>Pontuação</th>\n",
              "      <th>Visualizações</th>\n",
              "    </tr>\n",
              "  </thead>\n",
              "  <tbody>\n",
              "    <tr>\n",
              "      <th>0</th>\n",
              "      <td>2402</td>\n",
              "      <td>Como fazer hash de senhas de forma segura?</td>\n",
              "      <td>&lt;p&gt;Se eu fizer o &lt;em&gt;&lt;a href=\"http://pt.wikipe...</td>\n",
              "      <td>&lt;hash&gt;&lt;segurança&gt;&lt;senhas&gt;&lt;criptografia&gt;</td>\n",
              "      <td>350</td>\n",
              "      <td>22367</td>\n",
              "    </tr>\n",
              "    <tr>\n",
              "      <th>1</th>\n",
              "      <td>6441</td>\n",
              "      <td>Qual é a diferença entre INNER JOIN e OUTER JOIN?</td>\n",
              "      <td>&lt;p&gt;Qual é a diferença entre &lt;code&gt;INNER JOIN&lt;/...</td>\n",
              "      <td>&lt;sql&gt;&lt;join&gt;</td>\n",
              "      <td>276</td>\n",
              "      <td>176953</td>\n",
              "    </tr>\n",
              "    <tr>\n",
              "      <th>2</th>\n",
              "      <td>579</td>\n",
              "      <td>Por que não devemos usar funções do tipo mysql_*?</td>\n",
              "      <td>&lt;p&gt;Uma dúvida muito comum é por que devemos pa...</td>\n",
              "      <td>&lt;php&gt;&lt;mysql&gt;</td>\n",
              "      <td>226</td>\n",
              "      <td>9761</td>\n",
              "    </tr>\n",
              "    <tr>\n",
              "      <th>3</th>\n",
              "      <td>2539</td>\n",
              "      <td>As mensagens de erro devem se desculpar?</td>\n",
              "      <td>&lt;p&gt;É comum encontrar uma mensagem de erro que ...</td>\n",
              "      <td>&lt;aplicação-web&gt;&lt;gui&gt;&lt;console&gt;&lt;ux&gt;</td>\n",
              "      <td>214</td>\n",
              "      <td>5075</td>\n",
              "    </tr>\n",
              "    <tr>\n",
              "      <th>4</th>\n",
              "      <td>17501</td>\n",
              "      <td>Qual é a diferença de API, biblioteca e Framew...</td>\n",
              "      <td>&lt;p&gt;Me parecem termos muito próximos e eventual...</td>\n",
              "      <td>&lt;api&gt;&lt;framework&gt;&lt;terminologia&gt;&lt;biblioteca&gt;</td>\n",
              "      <td>193</td>\n",
              "      <td>54191</td>\n",
              "    </tr>\n",
              "  </tbody>\n",
              "</table>\n",
              "</div>"
            ],
            "text/plain": [
              "      Id  ... Visualizações\n",
              "0   2402  ...         22367\n",
              "1   6441  ...        176953\n",
              "2    579  ...          9761\n",
              "3   2539  ...          5075\n",
              "4  17501  ...         54191\n",
              "\n",
              "[5 rows x 6 columns]"
            ]
          },
          "metadata": {
            "tags": []
          },
          "execution_count": 36
        }
      ]
    },
    {
      "cell_type": "code",
      "metadata": {
        "id": "xsYHtStMokY1"
      },
      "source": [
        "questoes_port_sem_codigo = substituir_codigo(dados_portugues.Questão, regex_codigo)\n",
        "\n",
        "questoes_port_sem_codigo_sem_tag = remover(questoes_port_sem_codigo, regex_html)\n",
        "\n",
        "dados_portugues['sem_codigo_sem_tag'] = questoes_port_sem_codigo_sem_tag"
      ],
      "execution_count": null,
      "outputs": []
    },
    {
      "cell_type": "code",
      "metadata": {
        "id": "Sz_91ilDo4Gn",
        "colab": {
          "base_uri": "https://localhost:8080/",
          "height": 364
        },
        "outputId": "3ff11934-77a1-4b9d-cc8b-6f9d18d785a0"
      },
      "source": [
        "dados_portugues.head()"
      ],
      "execution_count": null,
      "outputs": [
        {
          "output_type": "execute_result",
          "data": {
            "text/html": [
              "<div>\n",
              "<style scoped>\n",
              "    .dataframe tbody tr th:only-of-type {\n",
              "        vertical-align: middle;\n",
              "    }\n",
              "\n",
              "    .dataframe tbody tr th {\n",
              "        vertical-align: top;\n",
              "    }\n",
              "\n",
              "    .dataframe thead th {\n",
              "        text-align: right;\n",
              "    }\n",
              "</style>\n",
              "<table border=\"1\" class=\"dataframe\">\n",
              "  <thead>\n",
              "    <tr style=\"text-align: right;\">\n",
              "      <th></th>\n",
              "      <th>Id</th>\n",
              "      <th>Título</th>\n",
              "      <th>Questão</th>\n",
              "      <th>Tags</th>\n",
              "      <th>Pontuação</th>\n",
              "      <th>Visualizações</th>\n",
              "      <th>sem_codigo_sem_tag</th>\n",
              "    </tr>\n",
              "  </thead>\n",
              "  <tbody>\n",
              "    <tr>\n",
              "      <th>0</th>\n",
              "      <td>2402</td>\n",
              "      <td>Como fazer hash de senhas de forma segura?</td>\n",
              "      <td>&lt;p&gt;Se eu fizer o &lt;em&gt;&lt;a href=\"http://pt.wikipe...</td>\n",
              "      <td>&lt;hash&gt;&lt;segurança&gt;&lt;senhas&gt;&lt;criptografia&gt;</td>\n",
              "      <td>350</td>\n",
              "      <td>22367</td>\n",
              "      <td>Se eu fizer o hash de senhas antes de armazená...</td>\n",
              "    </tr>\n",
              "    <tr>\n",
              "      <th>1</th>\n",
              "      <td>6441</td>\n",
              "      <td>Qual é a diferença entre INNER JOIN e OUTER JOIN?</td>\n",
              "      <td>&lt;p&gt;Qual é a diferença entre &lt;code&gt;INNER JOIN&lt;/...</td>\n",
              "      <td>&lt;sql&gt;&lt;join&gt;</td>\n",
              "      <td>276</td>\n",
              "      <td>176953</td>\n",
              "      <td>Qual é a diferença entre CODE e CODE? Podem me...</td>\n",
              "    </tr>\n",
              "    <tr>\n",
              "      <th>2</th>\n",
              "      <td>579</td>\n",
              "      <td>Por que não devemos usar funções do tipo mysql_*?</td>\n",
              "      <td>&lt;p&gt;Uma dúvida muito comum é por que devemos pa...</td>\n",
              "      <td>&lt;php&gt;&lt;mysql&gt;</td>\n",
              "      <td>226</td>\n",
              "      <td>9761</td>\n",
              "      <td>Uma dúvida muito comum é por que devemos parar...</td>\n",
              "    </tr>\n",
              "    <tr>\n",
              "      <th>3</th>\n",
              "      <td>2539</td>\n",
              "      <td>As mensagens de erro devem se desculpar?</td>\n",
              "      <td>&lt;p&gt;É comum encontrar uma mensagem de erro que ...</td>\n",
              "      <td>&lt;aplicação-web&gt;&lt;gui&gt;&lt;console&gt;&lt;ux&gt;</td>\n",
              "      <td>214</td>\n",
              "      <td>5075</td>\n",
              "      <td>É comum encontrar uma mensagem de erro que diz...</td>\n",
              "    </tr>\n",
              "    <tr>\n",
              "      <th>4</th>\n",
              "      <td>17501</td>\n",
              "      <td>Qual é a diferença de API, biblioteca e Framew...</td>\n",
              "      <td>&lt;p&gt;Me parecem termos muito próximos e eventual...</td>\n",
              "      <td>&lt;api&gt;&lt;framework&gt;&lt;terminologia&gt;&lt;biblioteca&gt;</td>\n",
              "      <td>193</td>\n",
              "      <td>54191</td>\n",
              "      <td>Me parecem termos muito próximos e eventualmen...</td>\n",
              "    </tr>\n",
              "  </tbody>\n",
              "</table>\n",
              "</div>"
            ],
            "text/plain": [
              "      Id  ...                                 sem_codigo_sem_tag\n",
              "0   2402  ...  Se eu fizer o hash de senhas antes de armazená...\n",
              "1   6441  ...  Qual é a diferença entre CODE e CODE? Podem me...\n",
              "2    579  ...  Uma dúvida muito comum é por que devemos parar...\n",
              "3   2539  ...  É comum encontrar uma mensagem de erro que diz...\n",
              "4  17501  ...  Me parecem termos muito próximos e eventualmen...\n",
              "\n",
              "[5 rows x 7 columns]"
            ]
          },
          "metadata": {
            "tags": []
          },
          "execution_count": 42
        }
      ]
    },
    {
      "cell_type": "code",
      "metadata": {
        "id": "Mj8FKSQuo5wO",
        "colab": {
          "base_uri": "https://localhost:8080/",
          "height": 380
        },
        "outputId": "392ffd2e-9520-43f6-8eae-fb5ed81d0468"
      },
      "source": [
        "questoes_ing_sem_codigo = substituir_codigo(dados_ingles.Questão, regex_codigo)\n",
        "\n",
        "questoes_ing_sem_codigo_sem_tag = remover(questoes_ing_sem_codigo, regex_html)\n",
        "\n",
        "dados_ingles['sem_codigo_sem_tag'] = questoes_ing_sem_codigo_sem_tag\n",
        "\n",
        "dados_ingles.head()"
      ],
      "execution_count": null,
      "outputs": [
        {
          "output_type": "execute_result",
          "data": {
            "text/html": [
              "<div>\n",
              "<style scoped>\n",
              "    .dataframe tbody tr th:only-of-type {\n",
              "        vertical-align: middle;\n",
              "    }\n",
              "\n",
              "    .dataframe tbody tr th {\n",
              "        vertical-align: top;\n",
              "    }\n",
              "\n",
              "    .dataframe thead th {\n",
              "        text-align: right;\n",
              "    }\n",
              "</style>\n",
              "<table border=\"1\" class=\"dataframe\">\n",
              "  <thead>\n",
              "    <tr style=\"text-align: right;\">\n",
              "      <th></th>\n",
              "      <th>Id</th>\n",
              "      <th>Título</th>\n",
              "      <th>Questão</th>\n",
              "      <th>Tags</th>\n",
              "      <th>Pontuação</th>\n",
              "      <th>Visualizações</th>\n",
              "      <th>sem_codigo_sem_tag</th>\n",
              "    </tr>\n",
              "  </thead>\n",
              "  <tbody>\n",
              "    <tr>\n",
              "      <th>0</th>\n",
              "      <td>11227809</td>\n",
              "      <td>Why is it faster to process a sorted array tha...</td>\n",
              "      <td>&lt;p&gt;Here is a piece of C++ code that seems very...</td>\n",
              "      <td>&lt;java&gt;&lt;c++&gt;&lt;performance&gt;&lt;optimization&gt;&lt;branch-...</td>\n",
              "      <td>23057</td>\n",
              "      <td>1358574</td>\n",
              "      <td>Here is a piece of C++ code that seems very pe...</td>\n",
              "    </tr>\n",
              "    <tr>\n",
              "      <th>1</th>\n",
              "      <td>927358</td>\n",
              "      <td>How do I undo the most recent local commits in...</td>\n",
              "      <td>&lt;p&gt;I accidentally committed the wrong files to...</td>\n",
              "      <td>&lt;git&gt;&lt;version-control&gt;&lt;git-commit&gt;&lt;undo&gt;</td>\n",
              "      <td>19640</td>\n",
              "      <td>7906137</td>\n",
              "      <td>I accidentally committed the wrong files to Gi...</td>\n",
              "    </tr>\n",
              "    <tr>\n",
              "      <th>2</th>\n",
              "      <td>2003505</td>\n",
              "      <td>How do I delete a Git branch locally and remot...</td>\n",
              "      <td>&lt;p&gt;I want to delete a branch both locally and ...</td>\n",
              "      <td>&lt;git&gt;&lt;git-branch&gt;&lt;git-remote&gt;</td>\n",
              "      <td>15249</td>\n",
              "      <td>6940906</td>\n",
              "      <td>I want to delete a branch both locally and rem...</td>\n",
              "    </tr>\n",
              "    <tr>\n",
              "      <th>3</th>\n",
              "      <td>292357</td>\n",
              "      <td>What is the difference between 'git pull' and ...</td>\n",
              "      <td>&lt;blockquote&gt;\\n  &lt;p&gt;&lt;strong&gt;Moderator Note:&lt;/st...</td>\n",
              "      <td>&lt;git&gt;&lt;git-pull&gt;&lt;git-fetch&gt;</td>\n",
              "      <td>11008</td>\n",
              "      <td>2543052</td>\n",
              "      <td>\\n  Moderator Note: Given that this question h...</td>\n",
              "    </tr>\n",
              "    <tr>\n",
              "      <th>4</th>\n",
              "      <td>477816</td>\n",
              "      <td>What is the correct JSON content type?</td>\n",
              "      <td>&lt;p&gt;I've been messing around with &lt;a href=\"http...</td>\n",
              "      <td>&lt;json&gt;&lt;http-headers&gt;&lt;content-type&gt;</td>\n",
              "      <td>9701</td>\n",
              "      <td>2478940</td>\n",
              "      <td>I've been messing around with JSON for some ti...</td>\n",
              "    </tr>\n",
              "  </tbody>\n",
              "</table>\n",
              "</div>"
            ],
            "text/plain": [
              "         Id  ...                                 sem_codigo_sem_tag\n",
              "0  11227809  ...  Here is a piece of C++ code that seems very pe...\n",
              "1    927358  ...  I accidentally committed the wrong files to Gi...\n",
              "2   2003505  ...  I want to delete a branch both locally and rem...\n",
              "3    292357  ...  \\n  Moderator Note: Given that this question h...\n",
              "4    477816  ...  I've been messing around with JSON for some ti...\n",
              "\n",
              "[5 rows x 7 columns]"
            ]
          },
          "metadata": {
            "tags": []
          },
          "execution_count": 43
        }
      ]
    },
    {
      "cell_type": "code",
      "metadata": {
        "id": "L7X2dhoBp3Z2",
        "colab": {
          "base_uri": "https://localhost:8080/",
          "height": 397
        },
        "outputId": "9778145e-11d3-43ed-cbdd-ce8e69eade7c"
      },
      "source": [
        "questoes_esp_sem_codigo = substituir_codigo(dados_espanhol.Questão, regex_codigo)\n",
        "\n",
        "questoes_esp_sem_codigo_sem_tag = remover(questoes_esp_sem_codigo, regex_html)\n",
        "\n",
        "dados_espanhol['sem_codigo_sem_tag'] = questoes_esp_sem_codigo_sem_tag\n",
        "\n",
        "dados_espanhol.head()"
      ],
      "execution_count": null,
      "outputs": [
        {
          "output_type": "execute_result",
          "data": {
            "text/html": [
              "<div>\n",
              "<style scoped>\n",
              "    .dataframe tbody tr th:only-of-type {\n",
              "        vertical-align: middle;\n",
              "    }\n",
              "\n",
              "    .dataframe tbody tr th {\n",
              "        vertical-align: top;\n",
              "    }\n",
              "\n",
              "    .dataframe thead th {\n",
              "        text-align: right;\n",
              "    }\n",
              "</style>\n",
              "<table border=\"1\" class=\"dataframe\">\n",
              "  <thead>\n",
              "    <tr style=\"text-align: right;\">\n",
              "      <th></th>\n",
              "      <th>Id</th>\n",
              "      <th>Título</th>\n",
              "      <th>Questão</th>\n",
              "      <th>Tags</th>\n",
              "      <th>Pontuação</th>\n",
              "      <th>Visualizações</th>\n",
              "      <th>sem_codigo_sem_tag</th>\n",
              "    </tr>\n",
              "  </thead>\n",
              "  <tbody>\n",
              "    <tr>\n",
              "      <th>0</th>\n",
              "      <td>18232</td>\n",
              "      <td>¿Cómo evitar la inyección SQL en PHP?</td>\n",
              "      <td>&lt;p&gt;Las sentencias dinámicas son sentencias SQL...</td>\n",
              "      <td>&lt;php&gt;&lt;mysql&gt;&lt;sql&gt;&lt;seguridad&gt;&lt;inyección-sql&gt;</td>\n",
              "      <td>169</td>\n",
              "      <td>38614</td>\n",
              "      <td>Las sentencias dinámicas son sentencias SQL qu...</td>\n",
              "    </tr>\n",
              "    <tr>\n",
              "      <th>1</th>\n",
              "      <td>197</td>\n",
              "      <td>¿Por qué mis programas no pueden hacer cálculo...</td>\n",
              "      <td>&lt;p&gt;Unas veces los cálculos funcionan correctam...</td>\n",
              "      <td>&lt;matemáticas&gt;&lt;coma-flotante&gt;&lt;lenguaje-agnóstico&gt;</td>\n",
              "      <td>141</td>\n",
              "      <td>3860</td>\n",
              "      <td>Unas veces los cálculos funcionan correctament...</td>\n",
              "    </tr>\n",
              "    <tr>\n",
              "      <th>2</th>\n",
              "      <td>36</td>\n",
              "      <td>¿Cuál es la diferencia entre un inner y un out...</td>\n",
              "      <td>&lt;p&gt;¿Cuál es la diferencia entre un &lt;code&gt;inner...</td>\n",
              "      <td>&lt;mysql&gt;&lt;sql&gt;&lt;join&gt;</td>\n",
              "      <td>97</td>\n",
              "      <td>53627</td>\n",
              "      <td>¿Cuál es la diferencia entre un CODE y un CODE...</td>\n",
              "    </tr>\n",
              "    <tr>\n",
              "      <th>3</th>\n",
              "      <td>29177</td>\n",
              "      <td>¿Por qué es considerado una mala práctica util...</td>\n",
              "      <td>&lt;p&gt;La mayoría de nosotros decimos, (muchas vec...</td>\n",
              "      <td>&lt;variables&gt;&lt;variables-globales&gt;&lt;patrones-de-di...</td>\n",
              "      <td>89</td>\n",
              "      <td>9987</td>\n",
              "      <td>La mayoría de nosotros decimos, (muchas veces ...</td>\n",
              "    </tr>\n",
              "    <tr>\n",
              "      <th>4</th>\n",
              "      <td>142</td>\n",
              "      <td>Validar un email en JavaScript que acepte todo...</td>\n",
              "      <td>&lt;h3&gt;Pregunta&lt;/h3&gt;\\n\\n&lt;p&gt;¿Cómo validar un e-mai...</td>\n",
              "      <td>&lt;javascript&gt;&lt;validación&gt;&lt;email&gt;&lt;regex&gt;</td>\n",
              "      <td>87</td>\n",
              "      <td>73129</td>\n",
              "      <td>Pregunta\\n\\n¿Cómo validar un e-mail que acepte...</td>\n",
              "    </tr>\n",
              "  </tbody>\n",
              "</table>\n",
              "</div>"
            ],
            "text/plain": [
              "      Id  ...                                 sem_codigo_sem_tag\n",
              "0  18232  ...  Las sentencias dinámicas son sentencias SQL qu...\n",
              "1    197  ...  Unas veces los cálculos funcionan correctament...\n",
              "2     36  ...  ¿Cuál es la diferencia entre un CODE y un CODE...\n",
              "3  29177  ...  La mayoría de nosotros decimos, (muchas veces ...\n",
              "4    142  ...  Pregunta\\n\\n¿Cómo validar un e-mail que acepte...\n",
              "\n",
              "[5 rows x 7 columns]"
            ]
          },
          "metadata": {
            "tags": []
          },
          "execution_count": 44
        }
      ]
    },
    {
      "cell_type": "code",
      "metadata": {
        "id": "--db947jqCqY",
        "colab": {
          "base_uri": "https://localhost:8080/",
          "height": 237
        },
        "outputId": "ea045e49-868c-4096-a79e-2840f9711704"
      },
      "source": [
        "print(dados_espanhol.sem_codigo_sem_tag[0])"
      ],
      "execution_count": null,
      "outputs": [
        {
          "output_type": "stream",
          "text": [
            "Las sentencias dinámicas son sentencias SQL que se crean como cadenas de texto (strings) y en las que se insertan/concatenan valores obtenidos de alguna fuente (normalmente proveniente del usuario), lo que puede hacer que sean vulnerables a inyección SQL si no se sanean las entradas, como por ejemplo:\n",
            "\n",
            "CODE\n",
            "\n",
            "Eso es un ejemplo de una vulnerabilidad grave en la seguridad de una aplicación (web o no) porque si el usuario introdujese un valor como CODE nos encontraríamos con que la sentencia ejecutada sería:\n",
            "\n",
            "CODE\n",
            "\n",
            "Y se eliminaría la tabla Usuarios con todos los datos contenidos en ella. \n",
            "\n",
            "¿Cómo puedo evitar que la inyección SQL ocurra en PHP?\n",
            "\n"
          ],
          "name": "stdout"
        }
      ]
    },
    {
      "cell_type": "code",
      "metadata": {
        "id": "WxJe3RGuqQZG",
        "colab": {
          "base_uri": "https://localhost:8080/",
          "height": 237
        },
        "outputId": "e59d5172-5259-4507-86bf-acaf33b92189"
      },
      "source": [
        "regex_pontuacao = re.compile(r\"[^\\w\\s]\")\n",
        "print(remover(questoes_esp_sem_codigo_sem_tag[0], regex_pontuacao))"
      ],
      "execution_count": null,
      "outputs": [
        {
          "output_type": "stream",
          "text": [
            "Las sentencias dinámicas son sentencias SQL que se crean como cadenas de texto strings y en las que se insertanconcatenan valores obtenidos de alguna fuente normalmente proveniente del usuario lo que puede hacer que sean vulnerables a inyección SQL si no se sanean las entradas como por ejemplo\n",
            "\n",
            "CODE\n",
            "\n",
            "Eso es un ejemplo de una vulnerabilidad grave en la seguridad de una aplicación web o no porque si el usuario introdujese un valor como CODE nos encontraríamos con que la sentencia ejecutada sería\n",
            "\n",
            "CODE\n",
            "\n",
            "Y se eliminaría la tabla Usuarios con todos los datos contenidos en ella \n",
            "\n",
            "Cómo puedo evitar que la inyección SQL ocurra en PHP\n",
            "\n"
          ],
          "name": "stdout"
        }
      ]
    },
    {
      "cell_type": "code",
      "metadata": {
        "id": "XW_RBRra8_k_"
      },
      "source": [
        "def minusculo(textos):\n",
        "  if type(textos) == str:\n",
        "\t  return textos.lower()\n",
        "  else:\n",
        "\t  return [texto.lower() for texto in textos]"
      ],
      "execution_count": null,
      "outputs": []
    },
    {
      "cell_type": "code",
      "metadata": {
        "id": "PBtRIujC9zM6",
        "colab": {
          "base_uri": "https://localhost:8080/",
          "height": 237
        },
        "outputId": "1d656695-f5e7-4f76-ea61-7623592fa9de"
      },
      "source": [
        "print(minusculo(questoes_esp_sem_codigo_sem_tag[0]))"
      ],
      "execution_count": null,
      "outputs": [
        {
          "output_type": "stream",
          "text": [
            "las sentencias dinámicas son sentencias sql que se crean como cadenas de texto (strings) y en las que se insertan/concatenan valores obtenidos de alguna fuente (normalmente proveniente del usuario), lo que puede hacer que sean vulnerables a inyección sql si no se sanean las entradas, como por ejemplo:\n",
            "\n",
            "code\n",
            "\n",
            "eso es un ejemplo de una vulnerabilidad grave en la seguridad de una aplicación (web o no) porque si el usuario introdujese un valor como code nos encontraríamos con que la sentencia ejecutada sería:\n",
            "\n",
            "code\n",
            "\n",
            "y se eliminaría la tabla usuarios con todos los datos contenidos en ella. \n",
            "\n",
            "¿cómo puedo evitar que la inyección sql ocurra en php?\n",
            "\n"
          ],
          "name": "stdout"
        }
      ]
    },
    {
      "cell_type": "code",
      "metadata": {
        "id": "V3xbmQJp94mi",
        "colab": {
          "base_uri": "https://localhost:8080/",
          "height": 33
        },
        "outputId": "0f9da50d-3753-4a93-f32e-d7774f77565a"
      },
      "source": [
        "regex_digitos = re.compile(r\"\\d+\")\n",
        "print(remover(\"Alura 1234 Caelum 1234\", regex_digitos))"
      ],
      "execution_count": null,
      "outputs": [
        {
          "output_type": "stream",
          "text": [
            "Alura  Caelum \n"
          ],
          "name": "stdout"
        }
      ]
    },
    {
      "cell_type": "code",
      "metadata": {
        "id": "nYN6QiYf-i5u",
        "colab": {
          "base_uri": "https://localhost:8080/",
          "height": 50
        },
        "outputId": "55d8fa4b-c0b5-40f9-83e0-5fb7c8136add"
      },
      "source": [
        "regex_espacos = re.compile(r\" +\")\n",
        "\n",
        "def substituir_por_espaco(textos, regex):\n",
        "  if type(textos) == str:\n",
        "\t  return regex.sub(\" \", textos)\n",
        "  else:\n",
        "\t  return [regex.sub(\" \", texto) for texto in textos]\n",
        "\n",
        "print(substituir_por_espaco(\"Alura  \\n      Caelum\", regex_espacos))"
      ],
      "execution_count": null,
      "outputs": [
        {
          "output_type": "stream",
          "text": [
            "Alura \n",
            " Caelum\n"
          ],
          "name": "stdout"
        }
      ]
    },
    {
      "cell_type": "code",
      "metadata": {
        "id": "7PR2LLfJ_rPC",
        "colab": {
          "base_uri": "https://localhost:8080/",
          "height": 33
        },
        "outputId": "13e4e072-73aa-4387-ed56-de7e48bd11ed"
      },
      "source": [
        "regex_quebra_linha = re.compile(r\"(\\n)\")\n",
        "\n",
        "print(substituir_por_espaco(\"Alura  \\n      Caelum\", regex_quebra_linha))"
      ],
      "execution_count": null,
      "outputs": [
        {
          "output_type": "stream",
          "text": [
            "Alura         Caelum\n"
          ],
          "name": "stdout"
        }
      ]
    },
    {
      "cell_type": "code",
      "metadata": {
        "id": "SjRytK3-AGJd"
      },
      "source": [
        ""
      ],
      "execution_count": null,
      "outputs": []
    }
  ]
}